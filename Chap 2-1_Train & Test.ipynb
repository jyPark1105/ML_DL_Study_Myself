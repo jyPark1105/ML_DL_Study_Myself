{
  "nbformat": 4,
  "nbformat_minor": 0,
  "metadata": {
    "colab": {
      "private_outputs": true,
      "provenance": [],
      "collapsed_sections": [
        "FAhwYVnA9eTX",
        "Ged7rQ-0-KBD",
        "_IwZQVXpAbCe",
        "t3pp7iXCCnPr",
        "gHmBNc8BJpon",
        "JqrpDzQNFAiG",
        "zA_3LNlSFaxF",
        "G2ToWxV3G1pg",
        "uAAeABvALjm0",
        "4hR9v3JYNVmu",
        "hbcGs0_JWtyi",
        "iuNe89kcHVv_",
        "s2eNukinH-SO",
        "0JyKCbj3aLEE"
      ],
      "authorship_tag": "ABX9TyMaKE0N5/LnutZ2lsijMSsY",
      "include_colab_link": true
    },
    "kernelspec": {
      "name": "python3",
      "display_name": "Python 3"
    },
    "language_info": {
      "name": "python"
    }
  },
  "cells": [
    {
      "cell_type": "markdown",
      "metadata": {
        "id": "view-in-github",
        "colab_type": "text"
      },
      "source": [
        "<a href=\"https://colab.research.google.com/github/jyPark1105/ML_DL_Study_Myself/blob/main/Chap%202-1_Train%20%26%20Test.ipynb\" target=\"_parent\"><img src=\"https://colab.research.google.com/assets/colab-badge.svg\" alt=\"Open In Colab\"/></a>"
      ]
    },
    {
      "cell_type": "markdown",
      "source": [
        "# Chapter 2-1 : Handle the data"
      ],
      "metadata": {
        "id": "SVic56zWSIAo"
      }
    },
    {
      "cell_type": "code",
      "source": [
        "from google.colab import drive\n",
        "drive.mount('/content/drive')"
      ],
      "metadata": {
        "id": "z7WDqrQTRur4"
      },
      "execution_count": null,
      "outputs": []
    },
    {
      "cell_type": "code",
      "source": [
        "import os\n",
        "os.chdir('/content/drive/MyDrive/ML_DL_Alone')\n",
        "\n",
        "%load_ext autoreload\n",
        "%autoreload 2"
      ],
      "metadata": {
        "id": "ml_sr5SqRw5b"
      },
      "execution_count": null,
      "outputs": []
    },
    {
      "cell_type": "markdown",
      "source": [
        "### Introduction\n",
        "\n",
        "    * 도미 35마리와 빙어 14마리를 정답(target)과 함께 정확히 100% 정확도로 분류하는 것 -> 시험 문제를 알고 푸는 문제와도 같음\n",
        "    * 연습문제와 시험문제가 달라야 능력 평가가 가능하듯이, Machine Learning Algorithm의 성능을 제대로 평가하기 위해서 Train data와 Test data로 나눠야 함\n",
        "\n",
        "    Train data : 훈련에 사용되는 데이터셋\n",
        "    Test data : 모델의 평가에 사용되는 데이터셋\n",
        "    \n",
        "    **반드시 Training에 사용되지 않은 데이터셋을 Test set로 사용할 것** (Train set -> Train + Test)"
      ],
      "metadata": {
        "id": "FAhwYVnA9eTX"
      }
    },
    {
      "cell_type": "markdown",
      "source": [
        "### 생선 데이터 준비"
      ],
      "metadata": {
        "id": "Ged7rQ-0-KBD"
      }
    },
    {
      "cell_type": "code",
      "source": [
        "fish_length = [25.4, 26.3, 26.5, 29.0, 29.0, 29.7, 29.7, 30.0, 30.0, 30.7,\n",
        "                31.0, 31.0, 31.5, 32.0, 32.0, 32.0, 33.0, 33.0, 33.5, 33.5,\n",
        "                34.0, 34.0, 34.5, 35.0, 35.0, 35.0, 35.0, 36.0, 36.0, 37.0,\n",
        "                38.5, 38.5, 39.5, 41.0, 41.0, 9.8, 10.5, 10.6, 11.0, 11.2,\n",
        "                11.3, 11.8, 11.8, 12.0, 12.2, 12.4, 13.0, 14.3, 15.0]\n",
        "\n",
        "fish_weight = [242.0, 290.0, 340.0, 363.0, 430.0, 450.0, 500.0, 390.0,\n",
        "                450.0, 500.0, 475.0, 500.0, 500.0, 340.0, 600.0, 600.0,\n",
        "                700.0, 700.0, 610.0, 650.0, 575.0, 685.0, 620.0, 680.0,\n",
        "                700.0, 725.0, 720.0, 714.0, 850.0, 1000.0, 920.0, 955.0,\n",
        "                925.0, 975.0, 950.0, 6.7, 7.5, 7.0, 9.7, 9.8, 8.7, 10.0,\n",
        "                9.9, 9.8, 12.2, 13.4, 12.2, 19.7, 19.9]"
      ],
      "metadata": {
        "id": "JtBC3RKJ_ndm"
      },
      "execution_count": null,
      "outputs": []
    },
    {
      "cell_type": "code",
      "source": [
        "fish_data = [[l, w] for l, w in zip(fish_length, fish_weight)]\n",
        "fish_target = [1] * 35 + [0] * 14\n",
        "\n",
        "print(fish_data)\n",
        "print(fish_target)\n",
        "\n",
        "# 도미 : Train set(35)\n",
        "# 빙어 : Test set(14)"
      ],
      "metadata": {
        "id": "38ZQQ7S9_43e"
      },
      "execution_count": null,
      "outputs": []
    },
    {
      "cell_type": "markdown",
      "source": [
        "### Split the data with KNN Algorithm"
      ],
      "metadata": {
        "id": "_IwZQVXpAbCe"
      }
    },
    {
      "cell_type": "code",
      "source": [
        "from sklearn.neighbors import KNeighborsClassifier\n",
        "kn = KNeighborsClassifier()\n",
        "\n",
        "# idx 4 데이터 출력\n",
        "print(fish_data[4])\n",
        "\n",
        "# idx 0 ~ 4 데이터 출력\n",
        "print(fish_data[:5])\n",
        "\n",
        "# idx 44 ~ 48(end) 데이터 출력\n",
        "print(fish_data[44:])"
      ],
      "metadata": {
        "id": "Ltrsou-JADBL"
      },
      "execution_count": null,
      "outputs": []
    },
    {
      "cell_type": "code",
      "source": [
        "# Train data, target\n",
        "train_data = fish_data[:35]\n",
        "train_target = fish_target[:35]\n",
        "\n",
        "# Test data, target\n",
        "test_data = fish_data[35:]\n",
        "test_target = fish_target[35:]"
      ],
      "metadata": {
        "id": "OMJNUtHvAlu8"
      },
      "execution_count": null,
      "outputs": []
    },
    {
      "cell_type": "code",
      "source": [
        "# Train the model and Evaluate\n",
        "kn.fit(train_data, train_target)\n",
        "kn.score(test_data, test_target)"
      ],
      "metadata": {
        "id": "xFmn1W_WBhdJ"
      },
      "execution_count": null,
      "outputs": []
    },
    {
      "cell_type": "markdown",
      "source": [
        "    도미 -> Train\n",
        "    빙어 -> Test\n",
        "\n",
        "    * 빙어에 대한 훈련을 하지 않았으므로 빙어에 대한 테스트 정확도 = 0.0 나오는 것이 \"정상\"\n",
        "\n",
        "    * 한쪽으로 치우친 Sampling -> \"Sampling Bias\"\n",
        "\n",
        "    **Randomly split을 해야 함**"
      ],
      "metadata": {
        "id": "hOXraYmRBl95"
      }
    },
    {
      "cell_type": "markdown",
      "source": [
        "## Numpy 라이브러리\n",
        "\n",
        "**Numpy**\n",
        "\n",
        "    * 대표적인 Array library\n",
        "    * 2차원 리스트 뿐만 아니라 고차원 리스트(배열)도 쉽게 만들고 조작할 수 있는 간편한 도구들을 제공"
      ],
      "metadata": {
        "id": "t3pp7iXCCnPr"
      }
    },
    {
      "cell_type": "markdown",
      "source": [
        "### np.array"
      ],
      "metadata": {
        "id": "gHmBNc8BJpon"
      }
    },
    {
      "cell_type": "code",
      "source": [
        "import numpy as np\n",
        "\n",
        "# Input data\n",
        "data_arr = np.array(fish_data)\n",
        "print(fish_data)\n",
        "print(data_arr)\n",
        "\n",
        "# Output data\n",
        "target_arr = np.array(fish_target)\n",
        "print(fish_target)\n",
        "print(target_arr)"
      ],
      "metadata": {
        "id": "VJbn-HQmDI7S"
      },
      "execution_count": null,
      "outputs": []
    },
    {
      "cell_type": "markdown",
      "source": [
        "### np.shape"
      ],
      "metadata": {
        "id": "JqrpDzQNFAiG"
      }
    },
    {
      "cell_type": "code",
      "source": [
        "# shape 속성 : (# of Samples, # of Dimensions)\n",
        "print(data_arr.shape)\n",
        "print(target_arr.shape)"
      ],
      "metadata": {
        "id": "Ezg2PASjFUn_"
      },
      "execution_count": null,
      "outputs": []
    },
    {
      "cell_type": "markdown",
      "source": [
        "### Randomly Sampling\n",
        "\n",
        "    1. np.random.seed(N) : 일정한 결과를 얻기 위해 Random seed(초기 난수)를 지정\n",
        "    2. np.arange(N) : 0 ~ N-1 idx -> 1 ~ N의 idx로 바꿔줌\n",
        "    3. np.random.shuffle(idx_arr) : 배열 idx_arr를 무작위로 섞어줌"
      ],
      "metadata": {
        "id": "zA_3LNlSFaxF"
      }
    },
    {
      "cell_type": "code",
      "source": [
        "# 대입\n",
        "np.random.seed(42)      # 초기난수 42 지정\n",
        "idx = np.arange(49)     # 0 ~ 48 idx\n",
        "np.random.shuffle(idx)  # Shuffling\n",
        "\n",
        "# 무작위로 섞였는지 확인\n",
        "print(idx)              # 이 자체로 랜덤 인덱스 배열"
      ],
      "metadata": {
        "id": "55KucmFUFvMR"
      },
      "execution_count": null,
      "outputs": []
    },
    {
      "cell_type": "markdown",
      "source": [
        "### Array indexing\n",
        "\n",
        "    1개 idx가 아닌 여러 개의 idx로 한 번에 여러 개의 원소를 선택 가능"
      ],
      "metadata": {
        "id": "G2ToWxV3G1pg"
      }
    },
    {
      "cell_type": "code",
      "source": [
        "# 여러 개의 idx들을 쌍대괄호를 통해 선택 가능\n",
        "print(data_arr[[1, 3, 5, 7]])"
      ],
      "metadata": {
        "id": "AXAu5FyEJyrC"
      },
      "execution_count": null,
      "outputs": []
    },
    {
      "cell_type": "code",
      "source": [
        "# Train set\n",
        "\n",
        "# 이미 idx 리스트는 1차원 리스트. 그러므로 대괄호를 하나만 사용\n",
        "train_data = data_arr[idx[:35]]\n",
        "train_target = target_arr[idx[:35]]\n",
        "\n",
        "print(idx)\n",
        "\"\"\"\n",
        "[ 5 24 15 21 39  9 17 12 29 35 36  2 42  7 11 41  3  1 43 47 18 31 10 33\n",
        " 30 19 45 44 13 32 20 28 25  8 34 38  4 14 16 23  6 40 37 22 48  0 26 27 46]\n",
        "\"\"\"\n",
        "\n",
        "print(data_arr[5], train_data[0])\n",
        "print(data_arr[24], train_data[1])"
      ],
      "metadata": {
        "id": "4mTNop0OKIbm"
      },
      "execution_count": null,
      "outputs": []
    },
    {
      "cell_type": "code",
      "source": [
        "# Test set\n",
        "\n",
        "test_data = data_arr[idx[35:]]\n",
        "test_target = target_arr[idx[35:]]\n",
        "\n",
        "print(idx[35:])\n",
        "\"\"\"\n",
        "[38  4 14 16 23  6 40 37 22 48  0 26 27 46]\n",
        "\"\"\"\n",
        "\n",
        "print(data_arr[38], test_data[0])\n",
        "print(data_arr[46], test_data[-1])"
      ],
      "metadata": {
        "id": "zGUu_tozKtMM"
      },
      "execution_count": null,
      "outputs": []
    },
    {
      "cell_type": "markdown",
      "source": [
        "### Scatter(X, y)\n",
        "\n",
        "    [:, 0] : 1열에 대해 전체 행(Feature 1)\n",
        "    [:, 1] : 2열에 대해 전체 행(Feature 2)"
      ],
      "metadata": {
        "id": "uAAeABvALjm0"
      }
    },
    {
      "cell_type": "code",
      "source": [
        "import matplotlib.pyplot as plt\n",
        "\n",
        "# Train\n",
        "plt.scatter(train_data[:, 0], train_data[:, 1], c='b')\n",
        "\n",
        "# Test\n",
        "plt.scatter(test_data[:, 0], test_data[:, 1], c='red')\n",
        "\n",
        "plt.xlabel('length')\n",
        "plt.ylabel('weight')\n",
        "plt.show()"
      ],
      "metadata": {
        "id": "d8YawfVYMSzo"
      },
      "execution_count": null,
      "outputs": []
    },
    {
      "cell_type": "markdown",
      "source": [
        "## 2nd Machine Learning Program\n",
        "\n",
        "    방금 만든 Train set과 Test set을 이용하여 k-Nearest Neighbor Algorithm을 훈련하기\n"
      ],
      "metadata": {
        "id": "4hR9v3JYNVmu"
      }
    },
    {
      "cell_type": "code",
      "source": [
        "# from sklearn.neighbors import KNeighborsClassifier\n",
        "\n",
        "# 객체 새로 생성\n",
        "kn = KNeighborsClassifier()\n",
        "\n",
        "# Model Training & Evaluation\n",
        "kn.fit(train_data, train_target)\n",
        "kn.score(test_data, test_target)\n",
        "\n",
        "# Prediction\n",
        "kn.predict(test_data)"
      ],
      "metadata": {
        "id": "r2XU0IH4Vmr2"
      },
      "execution_count": null,
      "outputs": []
    },
    {
      "cell_type": "code",
      "source": [
        "test_target"
      ],
      "metadata": {
        "id": "n9-GoGeAWKQH"
      },
      "execution_count": null,
      "outputs": []
    },
    {
      "cell_type": "markdown",
      "source": [
        "    predict 메서드의 반환값은 파이썬의 리스트가 아닌 Numpy 리스트"
      ],
      "metadata": {
        "id": "21PPzWsjWLWC"
      }
    },
    {
      "cell_type": "code",
      "source": [
        "score = kn.score(test_data, test_target)\n",
        "pred = kn.predict(test_data)\n",
        "\n",
        "print(f\"Accuracy: {score*100:.2f}\")\n",
        "print(f\"Prediction: {pred}\")\n",
        "print(f\"Ground Truth: {test_target}\")"
      ],
      "metadata": {
        "id": "dWNYv_KnWVSR"
      },
      "execution_count": null,
      "outputs": []
    },
    {
      "cell_type": "markdown",
      "source": [
        "### 문제 해결 과정 (Evaluation of Trained model)\n",
        "\n",
        "1. 알고리즘이 도미와 빙어에 대한 데이터를 모두 외우고 있다면 같은 데이터로 모델을 평가하는 것은 무의미함\n",
        "2. 훈련 후 평가할 때는 훈련에 사용되지 않은 데이터셋을 사용할 것\n",
        "3. 샘플링 편향을 방지하기 위해 Numpy 라이브러리에서 제공하는 함수들을 사용할 것(특히 seed, arange, shuffle)\n",
        "\n",
        "\n",
        "    이로써 완벽한 머신러닝 알고리즘의 탄생"
      ],
      "metadata": {
        "id": "hbcGs0_JWtyi"
      }
    },
    {
      "cell_type": "markdown",
      "source": [
        "## 마무리\n",
        "\n",
        "1. Keywords\n",
        "    * 지도 학습 : Data와 Target을 모델에 전달하여 훈련시킨 다음, New data를 예측하는데 활용하는 알고리즘\n",
        "        (Supervised Learning)\n",
        "\n",
        "    * 비지도 학습 : Data만을 모델에 전달하여 훈련시키는 알고리즘이지만 예측을 하는 것이 아닌 Data의 특성을 찾아내는 기술\n",
        "      (Unsupervised Learning)\n",
        "\n",
        "    * 훈련 세트 : 모델을 훈련할 때 사용하는 데이터셋이며 일반적으로 많을수록 좋음 (테스트 데이터 제외한 모든 데이터)\n",
        "    * 테스트 세트 : 훈련된 모델을 평가할 때 쓰이는 전체 데이터셋의 2 ~ 30% 정도의 데이터셋이며, 데이터량이 크다면 1%여도 충분\n",
        "\n",
        "\n",
        "2. 핵심 library와 function\n",
        "    * **numpy** : 고차원 데이터를 쉽게 다룰 수 있는 도구들을 가진 파이썬이 제공하는 라이브러리\n",
        "     * seed(N) : 초기난수를 N으로 지정하여 일정한 결과를 얻게 하는 함수 -> np.random.seed(42)\n",
        "     * arange(N) : 0 ~ N-1까지의 수들을 1씩 더한 상태로 인덱싱 배열을 반환하는 함수 -> np.arange(49)\n",
        "     * shuffle(idx) : arange 함수의 반환값(idx_arr)을 매개변수로 전달하여 무작위로 idx를 섞어주는 함수 -> np.random.shuffle(idx_arr)"
      ],
      "metadata": {
        "id": "iuNe89kcHVv_"
      }
    },
    {
      "cell_type": "markdown",
      "source": [
        "### Arange"
      ],
      "metadata": {
        "id": "s2eNukinH-SO"
      }
    },
    {
      "cell_type": "code",
      "source": [
        "import numpy as np\n",
        "\n",
        "# 파라미터 1개 -> 0 ~ 인수 - 1까지 반환\n",
        "print(np.arange(3))\n",
        "\n",
        "# 파라미터 2개 -> (시작, 끝), 기본 간격은 1\n",
        "print(np.arange(1, 3))\n",
        "\n",
        "# 파라미터 3개 -> (시작, 끝, 간격)\n",
        "print(np.arange(1, 3, 0.2))"
      ],
      "metadata": {
        "id": "qKdlzfm5NWGG"
      },
      "execution_count": null,
      "outputs": []
    },
    {
      "cell_type": "markdown",
      "source": [
        "### Shuffle"
      ],
      "metadata": {
        "id": "0JyKCbj3aLEE"
      }
    },
    {
      "cell_type": "code",
      "source": [
        "# 주어진 배열을 랜덤하게 섞는 함수\n",
        "# 다차원 배열의 경우 1번째 축(Row)에 대해서만 섞음\n",
        "arr = np.array([[1, 2], [3, 4], [5, 6]])\n",
        "np.random.shuffle(arr)\n",
        "print(arr)"
      ],
      "metadata": {
        "id": "GvbujBNMOXPE"
      },
      "execution_count": null,
      "outputs": []
    }
  ]
}