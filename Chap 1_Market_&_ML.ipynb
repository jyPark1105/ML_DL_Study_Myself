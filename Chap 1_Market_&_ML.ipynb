{
  "nbformat": 4,
  "nbformat_minor": 0,
  "metadata": {
    "colab": {
      "private_outputs": true,
      "provenance": [],
      "collapsed_sections": [
        "wx6CgcH8-N2D",
        "Bktdv7NvAnjM",
        "2AId6wuwwF1n"
      ],
      "authorship_tag": "ABX9TyN/jY7fxr8zO52IZBKBwBsr",
      "include_colab_link": true
    },
    "kernelspec": {
      "name": "python3",
      "display_name": "Python 3"
    },
    "language_info": {
      "name": "python"
    }
  },
  "cells": [
    {
      "cell_type": "markdown",
      "metadata": {
        "id": "view-in-github",
        "colab_type": "text"
      },
      "source": [
        "<a href=\"https://colab.research.google.com/github/jyPark1105/ML_DL_Study_Myself/blob/main/Chap%201_Market_%26_ML.ipynb\" target=\"_parent\"><img src=\"https://colab.research.google.com/assets/colab-badge.svg\" alt=\"Open In Colab\"/></a>"
      ]
    },
    {
      "cell_type": "markdown",
      "source": [
        "## Chapter 1 : Start the Machine Learning"
      ],
      "metadata": {
        "id": "SVic56zWSIAo"
      }
    },
    {
      "cell_type": "code",
      "source": [
        "from google.colab import drive\n",
        "drive.mount('/content/drive')"
      ],
      "metadata": {
        "id": "z7WDqrQTRur4"
      },
      "execution_count": null,
      "outputs": []
    },
    {
      "cell_type": "code",
      "source": [
        "import os\n",
        "os.chdir('/content/drive/MyDrive/ML_DL_Alone')\n",
        "\n",
        "%load_ext autoreload\n",
        "%autoreload 2"
      ],
      "metadata": {
        "id": "ml_sr5SqRw5b"
      },
      "execution_count": null,
      "outputs": []
    },
    {
      "cell_type": "markdown",
      "source": [
        "###35마리 도미 데이터 입력"
      ],
      "metadata": {
        "id": "87rbog7d9XeE"
      }
    },
    {
      "cell_type": "code",
      "source": [
        "bream_length = [25.4, 26.3, 26.5, 29.0, 29.0, 29.7, 29.7, 30.0, 30.0, 30.7,\n",
        "                31.0, 31.0, 31.5, 32.0, 32.0, 32.0, 33.0, 33.0, 33.5, 33.5,\n",
        "                34.0, 34.0, 34.5, 35.0, 35.0, 35.0, 35.0, 36.0, 36.0, 37.0,\n",
        "                38.5, 38.5, 39.5, 41.0, 41.0]\n",
        "\n",
        "bream_weight = [242.0, 290.0, 340.0, 363.0, 430.0, 450.0, 500.0, 390.0,\n",
        "                450.0, 500.0, 475.0, 500.0, 500.0, 340.0, 600.0, 600.0,\n",
        "                700.0, 700.0, 610.0, 650.0, 575.0, 685.0, 620.0, 680.0,\n",
        "                700.0, 725.0, 720.0, 714.0, 850.0, 1000.0, 920.0, 955.0,\n",
        "                925.0, 975.0, 950.0]\n",
        "\n",
        "print(len(bream_length)==35)\n",
        "print(len(bream_weight)==35)\n",
        "\n",
        "print(f\"첫 번째 도미: length = {bream_length[0]}cm, weight = {bream_weight[0]}g\")\n",
        "print(\"두 번째 도미: length = {}cm, weight = {}g\".format(bream_length[1], bream_weight[1]))\n",
        "\n",
        "# 각 도미의 특징을 길이와 무게로 표현한 것 -> Feature"
      ],
      "metadata": {
        "id": "2MMcGEPT9dBj"
      },
      "execution_count": null,
      "outputs": []
    },
    {
      "cell_type": "markdown",
      "source": [
        "### 두 개의 feature를 그래프로 표현 (Scatter : 산점도)\n",
        "X axis : 길이\n",
        "\n",
        "y axis : 무게"
      ],
      "metadata": {
        "id": "wx6CgcH8-N2D"
      }
    },
    {
      "cell_type": "code",
      "source": [
        "# 과학계산용 그래프를 그리는 대표적인 package\n",
        "import matplotlib.pyplot as plt # matplotlib의 pyplot 함수를 plt로 줄여서 사용\n",
        "\n",
        "plt.scatter(bream_length, bream_weight)\n",
        "plt.xlabel('length')\n",
        "plt.ylabel('weight')\n",
        "plt.show()"
      ],
      "metadata": {
        "id": "jypYrIbXAdG0"
      },
      "execution_count": null,
      "outputs": []
    },
    {
      "cell_type": "code",
      "source": [
        "### 'length ↑ --> weight ↑'로 생각할 수 있음\n",
        "### Scatter Graph --> 'Linear하다'"
      ],
      "metadata": {
        "id": "gH5Og90fty4z"
      },
      "execution_count": null,
      "outputs": []
    },
    {
      "cell_type": "markdown",
      "source": [
        "### 14마리 빙어 데이터 입력"
      ],
      "metadata": {
        "id": "Bktdv7NvAnjM"
      }
    },
    {
      "cell_type": "code",
      "source": [
        "smelt_length = [9.8, 10.5, 10.6, 11.0, 11.2, 11.3, 11.8, 11.8, 12.0, 12.2,\n",
        "                12.4, 13.0, 14.3, 15.0]\n",
        "\n",
        "smelt_weight = [6.7, 7.5, 7.0, 9.7, 9.8, 8.7, 10.0, 9.9, 9.8, 12.2, 13.4,\n",
        "                12.2, 19.7, 19.9]"
      ],
      "metadata": {
        "id": "0xfSdU-8A4tb"
      },
      "execution_count": null,
      "outputs": []
    },
    {
      "cell_type": "markdown",
      "source": [
        "### 도미와 빙어 산점도 그리기"
      ],
      "metadata": {
        "id": "2GML217auXVb"
      }
    },
    {
      "cell_type": "code",
      "source": [
        "# import matplotlib.pyplot as plt\n",
        "\n",
        "plt.scatter(bream_length, bream_weight)\n",
        "plt.scatter(smelt_length, smelt_weight)\n",
        "plt.xlabel('length')\n",
        "plt.ylabel('weight')\n",
        "plt.show()"
      ],
      "metadata": {
        "id": "yT8jF8OouejX"
      },
      "execution_count": null,
      "outputs": []
    },
    {
      "cell_type": "markdown",
      "source": [
        "## Algorithm 1 : k-Nearest Neighbor Algorithm"
      ],
      "metadata": {
        "id": "4_dHxDjtvVrR"
      }
    },
    {
      "cell_type": "markdown",
      "source": [
        "### 도미와 빙어 리스트 합치기"
      ],
      "metadata": {
        "id": "2AId6wuwwF1n"
      }
    },
    {
      "cell_type": "code",
      "source": [
        "length = bream_length + smelt_length\n",
        "weight = bream_weight + smelt_weight\n",
        "\n",
        "print(length)\n",
        "print(weight)"
      ],
      "metadata": {
        "id": "XZcph0aHva3P"
      },
      "execution_count": null,
      "outputs": []
    },
    {
      "cell_type": "markdown",
      "source": [
        "###Scikit-learn 머신러닝 패키지 사용"
      ],
      "metadata": {
        "id": "xUmTWaIDvnmK"
      }
    },
    {
      "cell_type": "code",
      "source": [
        "# 패키지를 사용하기 위해 '2차원 리스트'로 변환해야 함\n",
        "# zip 함수 + list comprehension 사용\n",
        "\n",
        "# zip function : 나열된 리스트에서 원소를 하나씩 꺼내주는 기능\n",
        "\n",
        "# fish_data = [[l, w, 0] for l, w in zip(length, weight)] --> [25.4, 242.0, 0], ... 이런 식으로 변형됨\n",
        "fish_data = [[l, w] for l, w in zip(length, weight)] # length, weight feature 총 2개만이 존재\n",
        "\n",
        "print(fish_data)"
      ],
      "metadata": {
        "id": "oYhGLFRJwN42"
      },
      "execution_count": null,
      "outputs": []
    },
    {
      "cell_type": "markdown",
      "source": [
        "### 도미 = 1, 빙어 = 0\n"
      ],
      "metadata": {
        "id": "b6MF4MlWwVN8"
      }
    },
    {
      "cell_type": "code",
      "source": [
        "fish_target = [1] * len(bream_length) + [0] * len(smelt_weight)\n",
        "print(fish_target)"
      ],
      "metadata": {
        "id": "x3CxXtT_xTfZ"
      },
      "execution_count": null,
      "outputs": []
    },
    {
      "cell_type": "markdown",
      "source": [
        "### Scikit-learn package에서 제공하는 KNeightborsClassifier를 import"
      ],
      "metadata": {
        "id": "I4O8H62oxl6E"
      }
    },
    {
      "cell_type": "code",
      "source": [
        "# Package나 Module 전체를 import하지 않음\n",
        "# 특정 class만 import하기 위해 from ~ import 구문 사용\n",
        "from sklearn.neighbors import KNeighborsClassifier\n",
        "\n",
        "# KNeighborsClassifier 클래스의 객체 생성\n",
        "kn = KNeighborsClassifier()\n",
        "kn\n",
        "\n",
        "# import sklearn\n",
        "# model = sklearn.neighbors.KNeighborsClassifier (Too long)"
      ],
      "metadata": {
        "id": "c3Th0tkmxyMl"
      },
      "execution_count": null,
      "outputs": []
    },
    {
      "cell_type": "markdown",
      "source": [
        "### 객체에 fish_data와 fish_target을 전달하여 도미를 찾기 위한 기준을 학습시키기\n",
        "    Training : 모델에 데이터를 전달하여 규칙을 학습하는 과정"
      ],
      "metadata": {
        "id": "sbdMxGDJx-6o"
      }
    },
    {
      "cell_type": "code",
      "source": [
        "# 간단하게 한 줄로 모델 학습 가능\n",
        "kn.fit(fish_data, fish_target)"
      ],
      "metadata": {
        "id": "I2TF0Mmdyu1A"
      },
      "execution_count": null,
      "outputs": []
    },
    {
      "cell_type": "markdown",
      "source": [
        "### score 메서드를 통해 모델을 평가하기 (Return : 0 ~ 1)"
      ],
      "metadata": {
        "id": "nFBtJ8eczfeQ"
      }
    },
    {
      "cell_type": "code",
      "source": [
        "print(\"Accuracy: {}%\".format(100*kn.score(fish_data, fish_target)))"
      ],
      "metadata": {
        "id": "vTI4K0y9zVVu"
      },
      "execution_count": null,
      "outputs": []
    },
    {
      "cell_type": "markdown",
      "source": [
        "### Prediction"
      ],
      "metadata": {
        "id": "0c5LKxWbzm2b"
      }
    },
    {
      "cell_type": "code",
      "source": [
        "# predict 메서드 -> 새로운 데이터의 정답을 예측하는 함수\n",
        "# fit 메서드와 같이 2차원 리스트(리스트의 리스트) 형태로 전달해야 함\n",
        "kn.predict([[30, 600]])"
      ],
      "metadata": {
        "id": "cYM0YIPq5xQX"
      },
      "execution_count": null,
      "outputs": []
    },
    {
      "cell_type": "markdown",
      "source": [
        "### Discussion    \n",
        "    k-Nearest Neighbor algorithm을 사용하기 위해 데이터만 모두 가지고 있으면 됨.\n",
        "    \n",
        "    단점 : Large Dataset -> 메모리 소모 多, 직선거리 계산 시간 소요 多\n",
        "\n",
        "    * 결과와 같이 k-Nearest Neighbor algorithm은 훈련되는 게 없는 셈\n",
        "    * fit 메서드에 전달한 데이터를 모두 저장하고 있다가 새로운 데이터가 등장하면 가장 가까운 데이터를 참고하여 도미인지 빙어인지 구분"
      ],
      "metadata": {
        "id": "hYuKGxM95zZ9"
      }
    },
    {
      "cell_type": "code",
      "source": [
        "# 속성 _fit_X -> fish_data 모두 가지고 있음\n",
        "print(kn._fit_X)\n",
        "print(kn._y)"
      ],
      "metadata": {
        "id": "eE2eRzWd6Zt0",
        "collapsed": true
      },
      "execution_count": null,
      "outputs": []
    },
    {
      "cell_type": "markdown",
      "source": [
        "### KNeighborsClassifier class의 기본값 = 5 (가장 가까운 데이터 개수)\n",
        "\n",
        "    * n_neighbors parameter를 조정하여 변경 가능 (n_neighbors=N)\n",
        "    * N==49 -> 가장 가까운 데이터 개수가 49개 (전체 생선 데이터 수)"
      ],
      "metadata": {
        "id": "q4ZD7NM862El"
      }
    },
    {
      "cell_type": "code",
      "source": [
        "kn49 = KNeighborsClassifier(n_neighbors=49)\n",
        "\n",
        "kn49.fit(fish_data, fish_target)\n",
        "print(kn49.score(fish_data, fish_target)) # == 0.7142857142857143 == 35/49 <= 도미 수/전체 데이터 수\n",
        "\n",
        "print(35/49)\n",
        "\n",
        "# 이 경우 완벽한 모델이 되지 않음."
      ],
      "metadata": {
        "id": "e6ktK3UP72aR"
      },
      "execution_count": null,
      "outputs": []
    },
    {
      "cell_type": "markdown",
      "source": [
        "### 문제 해결 과정\n",
        "\n",
        "    1. 도미 35마리와 빙어 14마리의 length, weight를 각각 할당 후 리스트의 리스트화\n",
        "    2. Machine Learning Algorithm인 k-Nearest Neighbor(k == 5)를 사용하여 모델을 생성\n",
        "    3. KNeighborsClassifier class의 fit, score, predict 메서드들을 각각 사용하여 도미와 빙어를 분류\n",
        "    4. k-Nearest Neighbor algorithm의 특징을 분석"
      ],
      "metadata": {
        "id": "4HA8GadqGXUj"
      }
    },
    {
      "cell_type": "markdown",
      "source": [
        "## 마무리\n",
        "\n",
        "1. Keywords\n",
        "    * Feature : 데이터를 표현하는 하나의 성질 (길이, 무게 등)\n",
        "    * Train : Machine Learning Algorithm이 데이터에서 규칙을 찾는 과정 (fit 메서드의 역할)\n",
        "    * kNN : 어떤 규칙을 찾는 것이 아닌 전체 데이터를 메모리에 가지고 있는 것이 전부\n",
        "    * Model : 알고리즘이 구현된 객체 (이 경우 KNeighborsClassifier class)\n",
        "    * Accuracy : 정답 개수/전체 데이터 개수 (Scikit-learn에서는 0 ~ 1 사이의 값)\n",
        "\n",
        "2. 핵심 package와 function\n",
        "    * scatter() : 산점도를 그리는 matplotlib의 function\n",
        "     * 처음 2개의 매개변수로 x value, y value를 각각 전달 (list 혹은 numpy 배열로 x, y를 전달할 것)\n",
        "     * c 매개변수 : 색상을 지정 -> RGB를 16진수('#1f77b4') 혹은 색깔 코드 'b', 'g', 'r', 'c', 'm', 'y', 'k', 'w' 중 '하나'를 지정 (지정하지 않았을 경우 10가지의 색상을 다채롭게 사용)\n",
        "     * marker 매개변수 : marker style을 지정, 기본값은 o (circle)\n",
        "    \n",
        "    * scikit-learn package\n",
        "     * fit(X, y) : scikit-learn model을 학습시킬 때 사용하는 메서드\n",
        "     * predict(X) : 학습된 scikit-learn model을 통해 예측할 때 사용되는 메서드\n",
        "     * score(X, y) : 학습된 scikit-learn model의 성능을 측정할 때 사용되는 메서드 (순서 : predict 함수 -> score 함수)"
      ],
      "metadata": {
        "id": "iuNe89kcHVv_"
      }
    },
    {
      "cell_type": "markdown",
      "source": [
        "### Problem #4 in 64page\n",
        "\n",
        "    n_neighbors의 값을 5 ~ 49까지 변경하며 Accuracy < 1.0을 처음 만족하는 n_neighbors의 값을 출력하라.\n",
        "\n",
        "    * 힌트 : KNeighborsClassifier class의 객체의 재생성 및 fit 메서드를 통한 훈련은 반복문에서 진행하지 않아도 됨\n"
      ],
      "metadata": {
        "id": "s2eNukinH-SO"
      }
    },
    {
      "cell_type": "code",
      "source": [
        "kn = KNeighborsClassifier()\n",
        "kn.fit(fish_data, fish_target)\n",
        "\n",
        "for N in range(5, 50):\n",
        "    # Set a hyperparamter \"k\"\n",
        "    kn.n_neighbors = N\n",
        "\n",
        "    # Compute Score\n",
        "    score = kn.score(fish_data, fish_target)\n",
        "\n",
        "    # Accuracy < 1.0을 만족하는 N의 값을 출력\n",
        "    if score < 1.0 :\n",
        "        print(f\"n_neighbors = {N}\")\n",
        "        print(f\"Accuracy = {score:.2f}\")\n",
        "        break"
      ],
      "metadata": {
        "id": "qKdlzfm5NWGG"
      },
      "execution_count": null,
      "outputs": []
    }
  ]
}