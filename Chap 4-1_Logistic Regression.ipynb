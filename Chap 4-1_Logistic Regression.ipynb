{
  "nbformat": 4,
  "nbformat_minor": 0,
  "metadata": {
    "colab": {
      "private_outputs": true,
      "provenance": [],
      "authorship_tag": "ABX9TyM094PVk3tw57ydowNlp5ro",
      "include_colab_link": true
    },
    "kernelspec": {
      "name": "python3",
      "display_name": "Python 3"
    },
    "language_info": {
      "name": "python"
    }
  },
  "cells": [
    {
      "cell_type": "markdown",
      "metadata": {
        "id": "view-in-github",
        "colab_type": "text"
      },
      "source": [
        "<a href=\"https://colab.research.google.com/github/jyPark1105/ML_DL_Study_Myself/blob/main/Chap%204-1_Logistic%20Regression.ipynb\" target=\"_parent\"><img src=\"https://colab.research.google.com/assets/colab-badge.svg\" alt=\"Open In Colab\"/></a>"
      ]
    },
    {
      "cell_type": "markdown",
      "source": [
        "# Chapter 4-1 : Logistic Regression\n",
        "\n",
        "### Introduction\n",
        "\n",
        "        *분류와 회귀 문제까지 다룰 수 있게 되었고 feature를 전처리하거나 조합하여 새로운 특성을 만드는 특성 공학까지 익힌 상태.\n",
        "        \n",
        "        **럭키백의 확률: 구성품을 모른 채 먼저 구매하고, 배송을 받은 후에야 구성품을 확인할 수 있는 상품\n",
        "          (럭키백의 구성 = 생선)\n",
        "          \n",
        "          럭키백 A에 \"도미 확률 높음\"이라고 표시를 해두는 이벤트를 진행하면 도미를 원하는 고객들이 럭키백 A를 살 가능성이 높을 것.\n",
        "          \n",
        "          그렇다면 도미의 확률을 머신러닝 알고리즘으로 수치화할 수는 없을까?\n"
      ],
      "metadata": {
        "id": "uKS4fA4yazHL"
      }
    },
    {
      "cell_type": "code",
      "source": [
        "from google.colab import drive\n",
        "drive.mount('/content/drive')"
      ],
      "metadata": {
        "id": "z7WDqrQTRur4"
      },
      "execution_count": null,
      "outputs": []
    },
    {
      "cell_type": "code",
      "source": [
        "import os\n",
        "os.chdir('/content/drive/MyDrive/ML_DL_Alone')\n",
        "\n",
        "%load_ext autoreload\n",
        "%autoreload 2"
      ],
      "metadata": {
        "id": "ml_sr5SqRw5b"
      },
      "execution_count": null,
      "outputs": []
    },
    {
      "cell_type": "markdown",
      "source": [
        "### Probability of Luckybag\n",
        "\n",
        "    1. 럭키백에 들어갈 수 있는 생선은 모두 7개\n",
        "       -> 이벤트를 잘 마치기 위해 생선의 크기, 무게 등 특성값들이 주어진 상황에서 모든 생선에 대한 확률을 잘 출력해야 함\n",
        "    2. 길이, 높이, 두께 외에도 대각선 길이와 무게도 사용할 예정\n",
        "    \n",
        "\n",
        "    확률은 수치값이므로 회귀 알고리즘?\n",
        "                  vs\n",
        "    7개 생선에 대한 분류 알고리즘?"
      ],
      "metadata": {
        "id": "CKB0U4-N3Hig"
      }
    },
    {
      "cell_type": "markdown",
      "source": [
        "## 1. KNN Algorithm\n",
        "\n",
        "**주변 이웃을 잘 찾아주기 때문에 \"이웃의 클래스 비율 = 확률\"로서 출력하기**"
      ],
      "metadata": {
        "id": "5hxb3iR6LFl9"
      }
    },
    {
      "cell_type": "markdown",
      "source": [
        "### Prepare the data"
      ],
      "metadata": {
        "id": "Tn1PtAutL4u5"
      }
    },
    {
      "cell_type": "code",
      "source": [
        "# pandas 라이브러리를 통해 CSV 데이터를 불러오기\n",
        "import pandas as pd\n",
        "\n",
        "# pandas의 read_csv() 함수를 사용하여 CSV파일 -> Dataframe으로 변환\n",
        "fish = pd.read_csv('https://bit.ly/fish_csv_data')\n",
        "\n",
        "# 처음 5개 행을 열 제목과 함께 출력\n",
        "fish.head()"
      ],
      "metadata": {
        "id": "R1njNK1VMO0G"
      },
      "execution_count": null,
      "outputs": []
    },
    {
      "cell_type": "code",
      "source": [
        "# 생선의 종류 파악\n",
        "\n",
        "## pandas 라이브러리의 unique 함수 사용\n",
        "print(pd.unique(fish['Species']))"
      ],
      "metadata": {
        "id": "LbzN8l5ZMkbH"
      },
      "execution_count": null,
      "outputs": []
    },
    {
      "cell_type": "markdown",
      "source": [
        "Dataframe\n",
        "\n",
        "    Target : 'Species' 열\n",
        "    Input : 잔여 열들\n",
        "\n",
        "    열 선택 방법: 데이터 프레임에서 원하는 열을 리스트로 나열하기\n"
      ],
      "metadata": {
        "id": "ChtlM5yXNNCP"
      }
    },
    {
      "cell_type": "code",
      "source": [
        "# 입력 데이터(5개의 열을 선택 후 to_numpy 메서드를 통해 넘파이 배열로 변환)\n",
        "fish_input = fish[['Weight', 'Length', 'Diagonal', 'Height', 'Width']].to_numpy()\n",
        "print(fish_input[:5])\n",
        "\n",
        "# 출력 데이터\n",
        "fish_target = fish['Species'].to_numpy()\n",
        "print(pd.unique(fish_target))"
      ],
      "metadata": {
        "id": "QYq_hF5lN0uZ"
      },
      "execution_count": null,
      "outputs": []
    },
    {
      "cell_type": "code",
      "source": [
        "# 데이터 분리\n",
        "from sklearn.model_selection import train_test_split\n",
        "train_input, test_input, train_target, test_target = train_test_split(\n",
        "    fish_input, fish_target, random_state=42)"
      ],
      "metadata": {
        "id": "IY-Qi52TN9en"
      },
      "execution_count": null,
      "outputs": []
    },
    {
      "cell_type": "code",
      "source": [
        "# 데이터 전처리\n",
        "\n",
        "## StandardScaler 클래스를 사용하여 Train set, Test set를 표준화 전처리\n",
        "from sklearn.preprocessing import StandardScaler\n",
        "ss = StandardScaler()\n",
        "\n",
        "## 입력 훈련 데이터로 변환기 훈련\n",
        "ss.fit(train_input)\n",
        "\n",
        "## 훈련 데이터 및 테스트 데이터 변환\n",
        "train_scaled = ss.transform(train_input)\n",
        "test_scaled = ss.transform(test_input)"
      ],
      "metadata": {
        "id": "CfunIVdbOLfO"
      },
      "execution_count": null,
      "outputs": []
    },
    {
      "cell_type": "markdown",
      "source": [
        "### Predict the probability of KNN Classifier\n",
        "    \n",
        "    1. Scikit-learn의 KNeighborsClassifier 클래스 객체 생성(k = 3)\n",
        "    2. 훈련 세트를 통한 모델 생성\n",
        "    3. 훈련 점수 및 테스트 점수 확인"
      ],
      "metadata": {
        "id": "C8xdpO0rPxcb"
      }
    },
    {
      "cell_type": "code",
      "source": [
        "from sklearn.neighbors import KNeighborsClassifier\n",
        "kn = KNeighborsClassifier(n_neighbors=3)\n",
        "\n",
        "# 모델 훈련\n",
        "kn.fit(train_scaled, train_target)\n",
        "\n",
        "# 점수 확인\n",
        "print(kn.score(train_scaled, train_target))\n",
        "print(kn.score(test_scaled, test_target))"
      ],
      "metadata": {
        "id": "fISDLg-QRbmC"
      },
      "execution_count": null,
      "outputs": []
    },
    {
      "cell_type": "markdown",
      "source": [
        "Purpose : 클래스 확률을 배우는 것\n",
        "1. Target data를 만들 때 fish['Species']를 사용하여 생성하였기 때문에, train_target과 test_target에 각각 7개의 생선 종류가 들어있음\n",
        "\n",
        "   Target data에 2개 이상의 클래스가 포함된 분류 문제 => 다중 분류(Multi-class classification)\n",
        "2. 이진 분류 모델을 훈련하는 방식과 동일함\n",
        "   \n",
        "   * 이진 분류: 양성 클래스와 음성 클래스를 각각 1과 0으로 지정하여야 함\n",
        "   \n",
        "   * 다중 분류: Target value를 문자열로도 사용 가능\n",
        "\n",
        "3. Target value를 그대로 Scikit-lean 모델에 전달 시 순서가 자동으로 알파벳 순으로 매겨짐\n",
        "   \n",
        "   * 따라서 pd.unique(fish['Species'])로 출력했던 순서와 다름\n",
        "   * KNeighborsClassifier 클래스의 classes_ 속성을 이용하여 정렬된 타깃값들을 확인하기"
      ],
      "metadata": {
        "id": "nuZ948mvSEWg"
      }
    },
    {
      "cell_type": "code",
      "source": [
        "# 정렬된 타깃값 출력\n",
        "print(kn.classes_)\n",
        "\n",
        "# 기존 타깃값 출력\n",
        "print(pd.unique(fish['Species']))\n",
        "\n",
        "\"\"\"\n",
        "서로 다름을 확인할 것\n",
        "\"\"\""
      ],
      "metadata": {
        "id": "Fl1HXg2AUFC2"
      },
      "execution_count": null,
      "outputs": []
    },
    {
      "cell_type": "code",
      "source": [
        "# Test set에 있는 처음 5개 샘플의 타깃값을 예측\n",
        "print(kn.predict(test_scaled[:5]))"
      ],
      "metadata": {
        "id": "K490cbZuV2gF"
      },
      "execution_count": null,
      "outputs": []
    },
    {
      "cell_type": "markdown",
      "source": [
        "    5개의 샘플에 대한 예측은 어떤 확률로 만들어졌는가?\n",
        "    -> Scikit-learn의 분류 모델: predict_proba() 메서드로 클래스별 확률값을 반환\n",
        "    \n",
        "    Test set에 있는 처음 5개의 샘플에 대한 확률을 출력\n",
        "    -> Numpy 라이브러리\n",
        "       1. round() 메서드는 기본으로 소수점 첫째 자리에서 반올림\n",
        "       2. decimals 매개변수: 유지할 소수점 아래 자릿수를 지정\n"
      ],
      "metadata": {
        "id": "x2I-_wlEWcLz"
      }
    },
    {
      "cell_type": "code",
      "source": [
        "import numpy as np\n",
        "\n",
        "# Scikit-learn 분류 모델의 predict_proba 메서드\n",
        "proba = kn.predict_proba(test_scaled[:5])\n",
        "\n",
        "# Numpy 배열의 round 메서드\n",
        "## decimals=4 -> 소수점 다섯째 자리에서 반올림\n",
        "print(np.round(proba, decimals=4))"
      ],
      "metadata": {
        "id": "gTihUqipXHwN"
      },
      "execution_count": null,
      "outputs": []
    },
    {
      "cell_type": "markdown",
      "source": [
        "**predict_proba() 메서드의 출력 결과**\n",
        "\n",
        "[[0.     0.     1.     0.     0.     0.     0.    ]\n",
        "\n",
        " [0.     0.     0.     0.     0.     1.     0.    ]\n",
        "\n",
        " [0.     0.     0.     1.     0.     0.     0.    ]\n",
        "\n",
        " [0.     0.     0.6667 0.     0.3333 0.     0.    ]\n",
        "\n",
        " [0.     0.     0.6667 0.     0.3333 0.     0.    ]]\n",
        "\n",
        " classes_ 속성의 순서와 동일\n",
        "_____________________________________________\n",
        "    1번째 열: 'Bream'\n",
        "    2번째 열: 'Parkki'\n",
        "    ...\n",
        "    7번째 열: 'Whitefish'\n",
        "\n",
        "    각 행(샘플)에 대해서, 각 열(생선 종류)에 대한 확률값을 출력"
      ],
      "metadata": {
        "id": "hJOYtDzbXj99"
      }
    },
    {
      "cell_type": "code",
      "source": [
        "# Numpy 배열의 슬라이싱 연산자를 사용하여 2차원 배열을 만들기\n",
        "# kneighbors() 메서드의 입력은 2차원 배열 형태를 요구\n",
        "\n",
        "## 가장 가까운 이웃 3개에 대한 거리와 그 샘플들의 인덱스를 배열에 담기\n",
        "distances, indexes = kn.kneighbors(test_scaled[3:4])\n",
        "\n",
        "print(train_target[indexes])"
      ],
      "metadata": {
        "id": "2URsrosMYAsQ"
      },
      "execution_count": null,
      "outputs": []
    },
    {
      "cell_type": "markdown",
      "source": [
        "결과 분석\n",
        "\n",
        "1. 5번째 클래스인 'Roach'가 1개, 3번째 클래스인 'Perch'가 2개임을 알 수 있음.\n",
        "2. 5번째 클래스에 대한 확률: 1/3 = 0.3333\n",
        "\n",
        "   3번째 클래스에 대한 확률: 2/3 = 0.6667\n",
        "_____________________________________________\n",
        "그러나 3개의 최근접 이웃을 사용하기 때문에 나올 수 있는 가능한 확률은 0/3, 1/3, 2/3, 3/3 뿐임.\n",
        "\n",
        "-> 더 좋은 알고리즘은 없을까?"
      ],
      "metadata": {
        "id": "H9ZE9VDzZTFP"
      }
    },
    {
      "cell_type": "markdown",
      "source": [
        "## 2. Logistic Regression\n",
        "\n",
        "* 이름은 회귀이지만 **분류 모델**\n",
        "* 선형 회귀와 동일하게 **선형 방정식을 학습**\n",
        "  * z = a * f1 + b * f2 + c * f3 + d * f4 + e * f5 + f(bias인 f는 feature와 다름)\n",
        "  * 특성은 늘어났지만 다중 회귀를 위한 **선형 방정식과 유사**함\n",
        "  * **a, b, c, d, e : parameters**\n",
        "* z 범위 : -∞ ~ +∞ -> 그러나 확률값이 되려면 0 ~ 1(0% ~ 100%) 사이 값으로 mapping시켜야 함\n",
        "  * z = -∞ or +∞ -> 확률 0(0%) or 1(100%) 되게 하는 함수가 있을까?\n",
        "  * **Sigmoid function**(Logistic function)을 사용하면 가능"
      ],
      "metadata": {
        "id": "oFZXjkjOdX99"
      }
    },
    {
      "cell_type": "markdown",
      "source": [
        "### Sigmoid function\n",
        "\n",
        "![Sigmoid.png](data:image/png;base64,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)"
      ],
      "metadata": {
        "id": "LNEezYeSdb35"
      }
    },
    {
      "cell_type": "markdown",
      "source": [
        "그래프 분석\n",
        "\n",
        "1. 0 ~ 1 사이의 값을 출력하기 위해 선형 방정식의 출력 z를 사용\n",
        "2. 그러나 자연상수 e를 사용하여 계산하기 때문에 비용 소모가 크다는 단점이 존재함\n",
        "3. **z : -∞ ~ +∞ -> Φ(z) : 0 ~ 1**\n",
        "4. phi(z) 값은 절대로 0 ~ 1 외의 값을 가질 수 없음(0~100%까지의 확률로 해석 가능)\n",
        "\n",
        "Numpy 라이브러리를 사용하여 그래프를 간단히 그릴 수 있음\n",
        "1. 배열 z = -n ~ +n까지 0.1 간격으로 만들기\n",
        "\n",
        "   여기서 n = 5, np.arange(-5, 5, 0.1) 형태로 선언\n",
        "2. 각 z의 위치마다 Sigmoid 값(phi value)을 계산하여 저장\n",
        "3. 지수함수 계산은 np.exp() 함수를 사용"
      ],
      "metadata": {
        "id": "nEfCAeKdzPPb"
      }
    },
    {
      "cell_type": "code",
      "source": [
        "# 필요 라이브러리 임포트\n",
        "import numpy as np\n",
        "import matplotlib.pyplot as plt\n",
        "\n",
        "# 배열 z 선언\n",
        "## 각 z 위치에 따른 Sigmoid value 계산\n",
        "z = np.arange(-5, 5, 0.1)\n",
        "phi = 1 / (1 + np.exp(-z))\n",
        "\n",
        "# 산점도 그리기\n",
        "## plot 함수: 현재 z, phi의 사상을 그려줌\n",
        "plt.plot(z, phi)\n",
        "plt.xlabel('z')\n",
        "plt.ylabel('phi')\n",
        "plt.show()\n",
        "\n",
        "# 정말 0과 1은 아님. limit 값\n",
        "print(phi[0])\n",
        "print(phi[-1])"
      ],
      "metadata": {
        "id": "CPdknNm41CdB"
      },
      "execution_count": null,
      "outputs": []
    },
    {
      "cell_type": "markdown",
      "source": [
        "#### Logistic regression으로 이진 분류 수행\n",
        "\n",
        "* **Scikit-learn에는 LogisticRegression 클래스가 준비**되어 있음\n",
        "* 로지스틱 회귀를 훈련하기 전, 간단하게 이진 분류를 수행해보기\n",
        "  * **이진 분류의 경우**\n",
        "\n",
        "    1. Sigmoid function의 출력 > 0.5 -> Positive\n",
        "    2. Sigmoid function의 출력 < 0.5 -> Negative\n",
        "\n",
        "    즉, phi(z)의 값이 0.5를 기준으로 이보다 크면 양성, 이보다 작으면 음성\n",
        "\n",
        "* **Numpy 배열 : Boolean Indexing** 기능이 있음\n",
        " * True, False 값을 전달하여 행을 선택할 수 있음\n",
        " * 선택하고자 하는 원소 -> True\n",
        " * 선택하지 않을 원소 -> False\n"
      ],
      "metadata": {
        "id": "6uSjNkTy67tR"
      }
    },
    {
      "cell_type": "code",
      "source": [
        "# Boolean Indexing\n",
        "char_arr = np.array(['A', 'B', 'C', 'D', 'E'])\n",
        "\n",
        "# A, C만 출력\n",
        "print(char_arr[[True, False, True, False, False]])"
      ],
      "metadata": {
        "id": "7TlQf2CF8S9W"
      },
      "execution_count": null,
      "outputs": []
    },
    {
      "cell_type": "code",
      "source": [
        "# 훈련 세트에서 도미와 빙어의 행만 골라내기\n",
        "bream_smelt_indexes = (train_target == 'Bream') | (train_target == 'Smelt')\n",
        "\n",
        "# 훈련 입력(Only 도미, 빙어)\n",
        "train_bream_smelt = train_scaled[bream_smelt_indexes]\n",
        "\n",
        "# 훈련 출력(Only 도미, 빙어)\n",
        "target_bream_smelt = train_target[bream_smelt_indexes]"
      ],
      "metadata": {
        "id": "WywfcRrT9v9S"
      },
      "execution_count": null,
      "outputs": []
    },
    {
      "cell_type": "markdown",
      "source": [
        "1. bream_smelt_indexes 배열 : 도미와 빙어일 경우 True, 그 외에 False 값을 가짐\n",
        "2. 위의 배열을 사용하여 train_scaled와 train_target 배열에 Boolean indexing을 적용하면 손쉽게 도미와 빙어 데이터를 골라낼 수 있음\n",
        "\n",
        "        이제 도미와 빙어 데이터로 로지스틱 회귀 모델을 통한 이진 분류를 진행하기\n",
        "        LogisticRegression 클래스 : 선형 모델이므로 sklearn.linear_model 패키지 하에 존재"
      ],
      "metadata": {
        "id": "4JZAt5pu-i1U"
      }
    },
    {
      "cell_type": "code",
      "source": [
        "from sklearn.linear_model import LogisticRegression\n",
        "lr = LogisticRegression()\n",
        "lr.fit(train_bream_smelt, target_bream_smelt)\n",
        "\n",
        "print(lr.predict(train_bream_smelt[:5]))"
      ],
      "metadata": {
        "id": "sbWVlnkV_LnN"
      },
      "execution_count": null,
      "outputs": []
    },
    {
      "cell_type": "code",
      "source": [
        "# 훈련 세트의 처음 5개 샘플에 대한 예측 확률\n",
        "print(lr.predict_proba(train_bream_smelt[:5]))"
      ],
      "metadata": {
        "id": "QNoOy9uD_pri"
      },
      "execution_count": null,
      "outputs": []
    },
    {
      "cell_type": "markdown",
      "source": [
        "    샘플마다 2개의 확률이 출력 -> 1열: Negative(0), 2열: Positive(1)\n",
        "    그렇다면 Bream과 Smelt 중 어떤 것이 양성 클래스인가?\n",
        "       \n",
        "    앞서 말했듯이 Scikit-learn은 \"Target value를 알파벳순으로 정렬\"하여 사용\n",
        "    classes_ 속성에서 확인 가능"
      ],
      "metadata": {
        "id": "t5XEknz1AM5p"
      }
    },
    {
      "cell_type": "code",
      "source": [
        "print(lr.classes_)\n",
        "\n",
        "# ['Bream' 'Smelt'] -> [0, 1]"
      ],
      "metadata": {
        "id": "wJLUmCvrAsJX"
      },
      "execution_count": null,
      "outputs": []
    },
    {
      "cell_type": "code",
      "source": [
        "# 로지스틱 회귀가 학습한 계수 확인\n",
        "print(lr.coef_, lr.intercept_)"
      ],
      "metadata": {
        "id": "fkCkyjAkAte5"
      },
      "execution_count": null,
      "outputs": []
    },
    {
      "cell_type": "markdown",
      "source": [
        "로지스틱 회귀 모델이 학습한 선형 방정식\n",
        "\n",
        "**z = -0.404 * (Weight) + (-0.576) * (Length) + (-0.663) * (Diagonal) + (-1.013) * (Height) + (-0.732) * (Width) + (-2.161)**\n",
        "\n",
        "***선형 방정식의 출력 z를 사용하여 Sigmoid function에 입력 후, 0 ~ 1 사이의 확률 값을 얻어내기**\n",
        "\n",
        "    LogisticRegression 클래스 : decision_function() 메서드를 통해 z값을 출력할 수 있다.\n",
        "    train_bream_smelt의 처음 5개 샘플에 대한 출력 z값을 계산하기\n"
      ],
      "metadata": {
        "id": "Kip_rji4BmCO"
      }
    },
    {
      "cell_type": "code",
      "source": [
        "decisions = lr.decision_function(train_bream_smelt[:5])\n",
        "print(decisions)"
      ],
      "metadata": {
        "id": "e5plDgcFCA95"
      },
      "execution_count": null,
      "outputs": []
    },
    {
      "cell_type": "markdown",
      "source": [
        "1. decisions : 처음 5개 샘플에 대한 각각의 z값들, 이 값들을 Sigmoid function에 통과시켜 Probabilities 계산\n",
        "2. Python의 Scipy 라이브러리 : **Sigmoid function 제공 -> expit() 라이브러리**\n",
        "\n",
        "   np.exp() 함수를 사용하여 분수 계산하는 것보다 훨씬 편리하며 안전함\n",
        "\n",
        "   **scipy.special 패키지** 하에 **expit 라이브러리**"
      ],
      "metadata": {
        "id": "Cky7XFRXCprF"
      }
    },
    {
      "cell_type": "code",
      "source": [
        "from scipy.special import expit\n",
        "print(expit(decisions))"
      ],
      "metadata": {
        "id": "zPAmrwGGC1kO"
      },
      "execution_count": null,
      "outputs": []
    },
    {
      "cell_type": "markdown",
      "source": [
        "    위의 코드 출력값을 보면 predict_proba() 메서드 출력의 두 번째 열의 값과 동일. 즉, decision_function() 메서드는 양성 클래스에 대한 z값을 반환\n",
        "    \n",
        "    이진 분류의 경우\n",
        "    1. predict_proba() 메서드: 음성 클래스와 양성 클래스에 대한 확률을 출력\n",
        "    2. 양성 클래스에 대한 z값을 계산함(음성 x)\n",
        "    3. coef_ 속성과 intercept_ 속성 : 로지스틱 회귀가 학습한 계수들이 저장되어있음\n",
        "\n",
        "    이제 다중 분류를 살펴볼 시간\n",
        "    "
      ],
      "metadata": {
        "id": "sOaH_4crDqUK"
      }
    },
    {
      "cell_type": "markdown",
      "source": [
        "#### Logistic regression으로 다중 분류 수행\n",
        "\n",
        "**LogisticRegression 클래스**\n",
        "\n",
        "1. LogisticRegression 클래스를 사용하여 7개의 생선을 분류하며 이진 분류와의 차이점을 파악하기\n",
        "\n",
        "2. 기본적으로 반복적인 알고리즘을 사용\n",
        "\n",
        "    max_iter 매개변수를 통해 반복 횟수를 지정(기본값 = 100)\n",
        "\n",
        "    여기서는 small dataset이므로 반복 횟수를 1000으로 늘려야 함\n",
        "\n",
        "3. Ridge 회귀와 같이 계수의 제곱을 규제(L2 규제)\n",
        "\n",
        "    Ridge : alpha parameter를 통한 규제 조절\n",
        "\n",
        "    alpha ↑ -> 규제 강도 ↑\n",
        "    \n",
        "4. LogisticRegression에서 규제를 제어하는 매개변수 = C(기본값 = 1)\n",
        "\n",
        "    여기서는 규제를 완화하기 위해 C = 20으로 늘리기\n",
        "____________________________________________________________________\n",
        "LogisticRegression 클래스를 통해 다중 분류 모델을 훈련하기 = train_scaled와 train_target을 사용\n",
        "\n"
      ],
      "metadata": {
        "id": "cqvz9PJ_Ec-m"
      }
    },
    {
      "cell_type": "code",
      "source": [
        "# 객체 생성 및 훈련\n",
        "## C = 20 -> 규제 완화, max_iter = 1000 -> 반복 횟수 늘림\n",
        "lr = LogisticRegression(C=20, max_iter=1000)\n",
        "lr.fit(train_scaled, train_target)\n",
        "\n",
        "# 훈련 점수 및 테스트 점수 파악\n",
        "print(lr.score(train_scaled, train_target))\n",
        "print(lr.score(test_scaled, test_target))"
      ],
      "metadata": {
        "id": "J_h408AEEfRp"
      },
      "execution_count": null,
      "outputs": []
    },
    {
      "cell_type": "markdown",
      "source": [
        "결과: 다행히 과대적합 및 과소적합으로 빠지지는 않음"
      ],
      "metadata": {
        "id": "QWk9vgcOHPOr"
      }
    },
    {
      "cell_type": "code",
      "source": [
        "# 테스트 세트의 처음 5개 샘플에 대한 예측\n",
        "proba = lr.predict_proba(test_scaled[:5])\n",
        "print(np.round(proba, decimals=3))"
      ],
      "metadata": {
        "id": "RS8Nib13HVzo"
      },
      "execution_count": null,
      "outputs": []
    },
    {
      "cell_type": "markdown",
      "source": [
        "[[0.    0.014 0.841 0.    0.136 0.007 0.003]\n",
        " [0.    0.003 0.044 0.    0.007 0.946 0.   ]\n",
        " [0.    0.    0.034 0.935 0.015 0.016 0.   ]\n",
        " [0.011 0.034 0.306 0.007 0.567 0.    0.076]\n",
        " [0.    0.    0.904 0.002 0.089 0.002 0.001]]\n",
        "\n",
        " 5개의 행에 대한 7개 생선에 대한 확률 -> 7개의 열 출력"
      ],
      "metadata": {
        "id": "aKLR9HF3IRY8"
      }
    },
    {
      "cell_type": "code",
      "source": [
        "print(lr.classes_)"
      ],
      "metadata": {
        "id": "5dg_hKVDIsHe"
      },
      "execution_count": null,
      "outputs": []
    },
    {
      "cell_type": "markdown",
      "source": [
        "**다중 분류 결과**\n",
        "\n",
        "1. 이진 분류는 샘플마다 2개의 확률을 출력하고 다중 분류는 샘플마다 num_classes 개수만큼 확률을 출력\n",
        "2. 여기서는 **가장 높은 확률 = 예측 클래스**가 됨\n",
        "_____________________________________________________________________\n",
        "**다중 분류의 선형 방정식 형태는? -> coef_ 속성과 intercept_ 속성을 통해 구할 수 있음**"
      ],
      "metadata": {
        "id": "luIAWbSvItGA"
      }
    },
    {
      "cell_type": "code",
      "source": [
        "print(lr.coef_)\n",
        "print(lr.intercept_)\n",
        "\n",
        "# 형태\n",
        "print(lr.coef_.shape, lr.intercept_.shape)"
      ],
      "metadata": {
        "id": "OBxbbiREJis0"
      },
      "execution_count": null,
      "outputs": []
    },
    {
      "cell_type": "markdown",
      "source": [
        "1. lr.coef_.shape = (7, 5)\n",
        "2. lr.intercept_.shape = (7,)\n",
        "\n",
        "    5개의 특성을 사용하므로 coef_ 배열의 열은 5개, 행은 7개\n",
        "\n",
        "    intercept_ : 7개\n",
        "___________________________________________________________\n",
        "이진 분류: z 값 2개 계산, SIgmoid function을 통한 확률 변환\n",
        "\n",
        "**다중 분류** : 클래스마다 z 값을 하나씩 계산, **Softmax function을 통한 확률 변환**\n",
        "\n"
      ],
      "metadata": {
        "id": "9HHpuPIVKb2v"
      }
    },
    {
      "cell_type": "markdown",
      "source": [
        "**Softmax function**\n",
        "* **여러 개의 선형 방정식**의 출력값을 0 ~ 1 사이로 압축\n",
        "* 지수 함수를 사용하기 때문에 **정규화된 지수 함수**라고도 부름\n",
        "\n",
        "Sigmoid function\n",
        "* **하나의 선형 방정식**의 출력값을 0 ~ 1 사이로 압축\n",
        "______________________________________"
      ],
      "metadata": {
        "id": "EyxUW558Mkog"
      }
    },
    {
      "cell_type": "markdown",
      "source": [
        "### Softmax function"
      ],
      "metadata": {
        "id": "gCtV0tySVNot"
      }
    },
    {
      "cell_type": "markdown",
      "source": [
        "![image.png](data:image/png;base64,iVBORw0KGgoAAAANSUhEUgAAARkAAAAgCAYAAAAmEgzGAAAAAXNSR0IArs4c6QAAAARnQU1BAACxjwv8YQUAAAAJcEhZcwAADsMAAA7DAcdvqGQAAAq8SURBVHhe7ZwPUJPnHce/Xd0RjtLQc7d0sytuauP1D3TtgHNaci1KzxvG2Qr9I01dW9hVpb0J9LpQTgtla/mzrYKdUnWSZusuYe0Z23pEVIIr17zcThLuHNHTJVa2xKu3vFQuYdJ79rxvXipBQwKEkNDnc/fi87x53pjf83v5Pr/f733CTYQCBoPBmCW+Jf3LYDAYswITGQaDMaswkWEwGLMKE5m5wmOD6bAZLj7Q9dvNsHgC7XkD74LlsAncmF2DFphPS21GgsHD1W2CqXfMmR5Yjjqk9uSwwu9ccF6H4sea4ZZ5waWsR8urOXD1yPHSjnzIpSEJz7AFtSu3wbIQ4C4oUf27Ush7nMj5bSkypSGMRMEPy+tZ2NatAHpdUO5oQuktVjhX1KH0bvrygsCoULBIZg5wnUtG5ae96PzsLIY+eAb+426oKySBGaYrRq8RtU80gBNHRwGPCdu2mOjaEzv8Z3jkmvrReawfQ/27oTxtweIXAwLjt+vQ8FYzarcXo7iaRnOBS2aIB6Yt22Cab9HgdcyBncMO8Lkfof9YJ/qH+rH7Lgcsd5aiNIPey+3FyCpYh3Xrx46NaLVL10kwkZkD0tcUIjOFNqjzdHusyHmtLNCn8INOIMUHx5FAPyqMjsA7PCJ1YoPsx2qo7hRaPCx7dZA9VYd8sW/Du00e5G8ro9HNPmj8G1Guj47MjAx7MTIqdeYxMbczJRPqh9PFJn/iXegWFKFubaDvGc1E9SsVqCgXjkJkZJTiCSo+42EiM1fwHJobHVCV09VdEhgB+V2ZSJcnS70EZ9QF0+s6JG+ulARGQEYjNhtsoq7IoHxQDfPgvA8/5gWuD2uhk2lQKQmMsIBAWQR1rgoqeiy+DKx/9fqUP2KR4c9wMOmb0fx2M3RHafj0DVgxpkvYubpsQfMeL9Q71EgX81ke3BFOcFnicNkB7rBOtLFZb4aD3mBBCFFaUwfSK8qQLd11jiNCaqSEpk0PjZDLU4tt3VYadivF1xlzRDhfwg+HvgEdSypRtkJy5hkzzOflyM6SBMfeCkNaEbLHLZhjhBUZ/xkjqgqWYVWdBSOKXKg35CLNXoVVMc7xE4GI5mqYQ0NRIxwKP5x2F3jhCUzT89g7nJ4YRV8qHsZfr8OyvFpYRm5H7gY1cuU2VOU9D9OgNIZKifFXL8CM2+A57YCH98DWXoEqexoU0ggB/4ldMNzTjjfWJoTl84+IfCnUXbbihaPAbR47HB4eHrsRFdU2pH1fGkAXC9MeF7JXyKT+BISnS6HwcfUkLzWV5L1pJV7pnIivi2hTNxHDRakfr3g7SI26gBRM99jZEWz3JEQ2V17SsbOedH1Bmy4D2ZqZSlJTl5KCN7qCr7loIJtS64lV6s4Y4f00BuKWutPmipXUP0I/8yP0swUbSbpeSyWbjIH/oW+PlhjO+ai5dPzPllIbU8m9L7aRgSviyyI+bhfRGp2BNh06c9zEoEmAe3LGRMnOCH1JbHuJ9n0n8V31EmtjAVlKfZmauZW0OcY5Tbi/njaQgDevJ7TIXDxEnltK33CplnSNuzkEfD01ZNVjbSHfNJ7web3EO90j0pt/CnMV9At11Ue8E8aLxKXIuMmhEkEwlhLt8QkTQ2/YmpWPk7ZzgW6waFAbJ06k6xCpf69Pmuc+0mbsk16YCdESGS9xcl3Eei6C5eWKk1gtVuKMYChx95Euy0DEi1ZoomFn5L6cuAIIv08TriC+41qSOsn9FXKfjO3th/AQDYnwcjs+r8ihEZETfU4XXEcNaD6Vjrp3xp4WMKI5V64jzTBxfTA08cipVSHjpxpossKnE/4LHKxOn9SbwOVuNB4ESspzQ6RkyVj8YDbSb5BPf429GQ+tqoINZWj/1yvIWeCF0+aE64IZhhY70ne0fP3EYXIcaM3LQkWv1KUUtp3F/g3jE6kQDLvA/cOJG1vJo7vpXWBzBXIXSqcmkLw4B9l3hgjpJVz6jbhvi5m28tHS1w7NjwLnr4eHefsPsHEfba5pQf/fNAhpPW9GxU82opXmzNkNvej8ZZga1GzbGTVfBvC0F2OZuQhnW9VB6fAYIWoyNnQb6S8NJV8o4B3UQfdhNxyXZFj+zG6c/IgJzDWiO1fpa8tQtmM/Tg61o/HlsogEJhbYThqopZQ1I3DoqY0HTej+5yXIlBrs7jo8hZtSidJjQxgaunZEJDAxR4bkJKkZipsj/NxJSXFVb4ueLwMofr4Pn//+xgIjIsYz10HzNSH3SoS6SxhmP11KgLmKQrpkfVOwcVyuHndEOV1yReD8q27SN5V0iXPGRboUa1+GSJc4NNy6GrWoRudQJbKlsyEZ9cB2pAPd53kkLcrB/XIfFGtUUAzaQHNbYARIy1YhU+6H55QVA1/Sa769GPevSIfcT6/lBuClg9KW5CNT5gDXQ8dgOVS5NISnS4DwSNhCx0CpgiprCk9haJhaq2me/s7ZB8qgD7vVf4pzNRcMGlGsBZraCkOvNmHg3roVq+uAahqFVGZJJ+MKD4zPlgO/0aNwkXRqXjJzO2PuS1FqrkNQS0HtakIUH4VKs5YcEoVQKCI9R9pc4guEfNFFalYGipa+i1ZieO3xcau8j7h7DET7GH3vsZXV5yZWo5Y8TpV1685dpP6DPuKmUcTAe5vEyvfeP2hJm81NI4sB0kY/U15LNIqE0WQqczVHRCGScRupP6iPanqkExPw9tQTrWkujYxWJBPvzNzOWPsyRE1GgXWby+hPHQ6d8EvnJC7bYKwsxt6FGuQLy+JlK8x/TUbaWP66UAX1M3IIXdmibBSqcwLnRWRQrCjES0+ppT5FpkD2xvUQRulGM1C2IRMKuRzK3PVQ99bizN3V0GQoIJcr8eg6NTizLUrfdYkWU5irBEaxtgRl1AbdJxYEWTnKi3tgiv+kgOaRBDfyG0KsfRlyM57s4Wp8dKAI9tIsFFcLu1ersK1gNVZXmpH0Cz32b1ZSyaAszEH+kx0oXnYfVj9bgVq9GWlPTu+bturM5YH3FLhZ+KFGjnJClfyEJ+42AUY8V4lMigrVH+9H0akXkPVslbg7tGrLOqx+dDvMSSXQt2qgnOzpFCN+iLUvpYgmNMJejnCF0Ktu0vVeDSnX5JF7aRgmbvAZ2//hEvZ8BId3YrgWFL4HiqdBhShxr8gNrovm/pFoE8lczQVR2SdzjWvF9HgykqVL0yEWvgz/3aUFMpqqyAPHjZZj3owGvReq4mo0tnWi/z8nUZdWi71mKd4QI5Jg/FcS6ls6kRNuruaKBUlISwn3PDZyZGM2xpWRQFJKGpLC/G2T+UA07YyFL8OLTDioYNj2mQPP3QVSMpHzgALL7wiV03nAnbAAXl9wPsiYPRRqtLwzyT6GeYEC6ndaoJ73ZaHEs/PmnRSpPT2+PI2PO/8O+6kzGL5pFOc6G/HnS9uxRbMEacLrt96Bhf97H3/sHsV3ZC4cO9gD/PAWfHLgLzj+qQeLM77CgZIaGJyD4Pqt6HHdjnuuHkBJZSvM/+Zg43ow+N178NWBEpQfMGPwvy4MfHYE/uVP48HviZ+AwWDEMVH485t++EdlkNHwzc/zGEkKkSoM8+BHkwJhmZ+2v6LjWKGQwZj3REFkGAwGIzQzr8kwGAzGJDCRYTAYswoTGQaDMaswkWEwGLMKExkGgzGrMJFhMBizCPB/XE5LqBY60JQAAAAASUVORK5CYII=)"
      ],
      "metadata": {
        "id": "9x-NFYl2TSP-"
      }
    },
    {
      "cell_type": "markdown",
      "source": [
        "![image.png](data:image/png;base64,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)"
      ],
      "metadata": {
        "id": "99BzyXO6Tfyz"
      }
    },
    {
      "cell_type": "markdown",
      "source": [
        "    s1 + s2 + ... + s7 = 분자와 분모가 같아지므로 1이 됨\n",
        "    7개 생선에 대한 확률의 합은 1이 되어야하므로 올바른 결과"
      ],
      "metadata": {
        "id": "BYBd0uzdVGx6"
      }
    },
    {
      "cell_type": "code",
      "source": [
        "# decision_function -> z값 구하기\n",
        "decision = lr.decision_function(test_scaled[:5])\n",
        "print(np.round(decision, decimals=2))"
      ],
      "metadata": {
        "id": "8KzkNIdtVtrX"
      },
      "execution_count": null,
      "outputs": []
    },
    {
      "cell_type": "markdown",
      "source": [
        "scipy.special 해키지 하에 softmax() 함수 제공\n"
      ],
      "metadata": {
        "id": "_VjDkoK0WfLU"
      }
    },
    {
      "cell_type": "code",
      "source": [
        "# softmax 라이브러리 임포트\n",
        "from scipy.special import softmax\n",
        "\n",
        "# axis=1 -> 각 샘플(행)에 대해 확률 계산\n",
        "proba = softmax(decision, axis=1)\n",
        "\n",
        "# 각 행의 z값들에 대한 확률 구하기\n",
        "print(np.round(proba, decimals=3))"
      ],
      "metadata": {
        "id": "JMujbwSOWstg"
      },
      "execution_count": null,
      "outputs": []
    },
    {
      "cell_type": "markdown",
      "source": [
        "### 문제 해결 과정\n",
        "**로지스틱 회귀로 확률 예측**\n",
        "1. 분류 모델: 예측뿐만 아니라 예측의 근거가 되는 확률도 출력 가능\n",
        "\n",
        "2. KNN 알고리즘: 확률을 출력할 수 있지만 이웃한 샘플의 클래스 비율값을 계산\n",
        "\n",
        "   -> 항상 정해진 확률만 출력하게 됨\n",
        "\n",
        "3. 로지스틱 회귀(이진 분류): 회귀가 아닌 분류 모델로서 선형 방정식을 사용\n",
        "    * 0 ~ 1 사이로 입력값을 사상\n",
        "    * 하나의 선형 방정식을 훈련 -> Sigmoid function 통과 -> 0 ~ 1 사이의 값으로 압축\n",
        "    * 이 값이 0.5보다 크면 양성, 0.5보다 작으면 음성\n",
        "\n",
        "4. 로지스틱 회귀(다중 분류) : 여러 개의 선형 방정식을 사용\n",
        "    * 0 ~ 1 사이로 입력값을 사상\n",
        "    * 여러 개(num_classes 값)의 선형 방정식을 훈련 -> Softmax function 통과 -> 0 ~ 1 사이의 값으로 압축\n",
        "    * 전체 클래스에 대한 확률값들의 합 = 1이 되도록 만듦"
      ],
      "metadata": {
        "id": "8DUcq6_bplSM"
      }
    },
    {
      "cell_type": "markdown",
      "source": [
        "### 마무리\n",
        "\n",
        "1. Keywords\n",
        "    * **Logistic Regression** : 선형 방정식을 사용한 분류 알고리즘\n",
        "\n",
        "    선형 회귀와 달리 **Sigmoid function 혹은 Softmax function을 사용하여 클래스 확률을 출력**\n",
        "\n",
        "    * **Multi-Nomial Logistic Regression** : 타깃 클래스가 2개 이상인 분류 문제\n",
        "\n",
        "    * **Sigmoid Function** : **이진 분류 전용**, **하나**의 선형 방정식의 출력 -> 0 ~ 1 사이의 값으로 압축\n",
        "\n",
        "    * **Softmax Function** : **다중 분류 전용**, **여러** 선형 방정식의 출력 -> 0 ~ 1 사이의 값으로 압축\n",
        "\n",
        "2. 핵심 package와 function\n",
        "    * **scikit-learn**\n",
        "     * **LogisticRegression** : 선형 분류 알고리즘인 로지스틱 회귀 클래스\n",
        "        * solver 매개변수: 기본값 = 'lbfgs'\n",
        "        * penalty 매개변수: L2 규제(Ridge)와 L1 규제(Lasso)를 선택 가능, 기본값 = 'l2'\n",
        "        * C 매개변수: 규제의 강도를 제어하며 기본값 = 1.0, 값이 작을수록 규제가 강해짐\n",
        "     * predict_proba() : 예측 확률을 반환하는 메서드\n",
        "        * 이진 분류 : 각 샘플마다 음성 클래스와 양성 클래스에 대한 확률을 반환\n",
        "        * 다중 분류 : 클래스의 개수만큼 각 샘플마다 확률값들을 반환\n",
        "    * decision_function() : 모델이 학습한 선형 방정식의 출력값을 반환(로지스틱 회귀: z값)\n",
        "        * 이진 분류 : 양성 클래스의 확률이 반환. 이 값이 0보다 크면 양성 클래스, 0보다 작거나 같으면 음성 클래스로 예측\n",
        "        * 다중 분류 : 클래스 개수만큼 선형 방정식을 계산. 가장 큰 값의 클래스 확률이 예측 클래스가 됨"
      ],
      "metadata": {
        "id": "6tE8VuR2psz9"
      }
    }
  ]
}